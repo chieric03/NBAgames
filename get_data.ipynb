{
 "cells": [
  {
   "cell_type": "code",
   "execution_count": 1,
   "metadata": {},
   "outputs": [],
   "source": [
    "import os\n",
    "from bs4 import BeautifulSoup\n",
    "from playwright.async_api import async_playwright, TimeoutError as PlaywrightTimeout\n",
    "import time\n"
   ]
  },
  {
   "cell_type": "code",
   "execution_count": 2,
   "metadata": {},
   "outputs": [],
   "source": [
    "SEASONS = list(range(2018,2024))\n"
   ]
  },
  {
   "cell_type": "code",
   "execution_count": 3,
   "metadata": {},
   "outputs": [],
   "source": [
    "DATA_DIR = 'data'\n",
    "MONTHS_DIR = os.path.join(DATA_DIR, 'months')\n",
    "SCORES_DIR = os.path.join(DATA_DIR, 'scores')"
   ]
  },
  {
   "cell_type": "code",
   "execution_count": 4,
   "metadata": {},
   "outputs": [],
   "source": [
    "async def get_html(url, selector, sleep=5, retries = 3):\n",
    "    \"\"\"\n",
    "    Fetches the HTML content of a specified element from a webpage using Playwright.\n",
    "    Args:\n",
    "        url (str): The URL of the webpage to fetch the HTML from.\n",
    "        selector (str): The CSS selector of the element to fetch the HTML content from.\n",
    "        sleep (int, optional): The base number of seconds to wait between retries. Defaults to 5.\n",
    "        retries (int, optional): The number of times to retry fetching the HTML in case of failure. Defaults to 3.\n",
    "    Returns:\n",
    "        str: The HTML content of the specified element, or None if the fetch fails after the specified retries.\n",
    "    Raises:\n",
    "        PlaywrightTimeout: If the request times out.\n",
    "    \"\"\"\n",
    "\n",
    "    html = None\n",
    "    for i in range(1,retries+1):\n",
    "        time.sleep(sleep * i) #makes sure we dont scrape too fast and we dont get banned.\n",
    "\n",
    "        try:\n",
    "            async with async_playwright() as p:\n",
    "                browser = await p.chromium.launch()\n",
    "                page = await browser.new_page()\n",
    "                await page.goto(url)\n",
    "                print(await page.title())\n",
    "                html = await page.inner_html(selector)\n",
    "        except PlaywrightTimeout:\n",
    "            print(f\"Timeout on {url}\")\n",
    "            continue\n",
    "        else: \n",
    "            break\n",
    "    return html\n"
   ]
  },
  {
   "cell_type": "code",
   "execution_count": 5,
   "metadata": {},
   "outputs": [],
   "source": [
    "async def scrape_season(season):\n",
    "    url = f\"https://www.basketball-reference.com/leagues/NBA_{season}_games.html\"\n",
    "    html = await get_html(url, '#content .filter')\n",
    "    soup = BeautifulSoup(html)\n",
    "    links = soup.find_all('a')\n",
    "    href = [l['href'] for l in links]\n",
    "    months_pages = [f'https://www.basketball-reference.com{l}' for l in href]\n",
    "\n",
    "    for url in months_pages:\n",
    "        save_path = os.path.join(MONTHS_DIR, url.split('/')[-1]) #naming by month\n",
    "        if os.path.exists(save_path):\n",
    "            print(f\"Skipping {url}\")\n",
    "            continue\n",
    "\n",
    "        html = await get_html(url, '#all_schedule')\n",
    "        with open(save_path, 'w+') as f:\n",
    "            f.write(html)"
   ]
  },
  {
   "cell_type": "code",
   "execution_count": 9,
   "metadata": {},
   "outputs": [
    {
     "name": "stdout",
     "output_type": "stream",
     "text": [
      "2017-18 NBA Schedule | Basketball-Reference.com\n",
      "Skipping https://www.basketball-reference.com/leagues/NBA_2018_games-october.html\n",
      "Skipping https://www.basketball-reference.com/leagues/NBA_2018_games-november.html\n",
      "Skipping https://www.basketball-reference.com/leagues/NBA_2018_games-december.html\n",
      "Skipping https://www.basketball-reference.com/leagues/NBA_2018_games-january.html\n",
      "Skipping https://www.basketball-reference.com/leagues/NBA_2018_games-february.html\n",
      "Skipping https://www.basketball-reference.com/leagues/NBA_2018_games-march.html\n",
      "Skipping https://www.basketball-reference.com/leagues/NBA_2018_games-april.html\n",
      "Skipping https://www.basketball-reference.com/leagues/NBA_2018_games-may.html\n",
      "Timeout on https://www.basketball-reference.com/leagues/NBA_2018_games-june.html\n",
      "2017-18 NBA Schedule | Basketball-Reference.com\n",
      "2018-19 NBA Schedule | Basketball-Reference.com\n",
      "Skipping https://www.basketball-reference.com/leagues/NBA_2019_games-october.html\n",
      "Skipping https://www.basketball-reference.com/leagues/NBA_2019_games-november.html\n",
      "Skipping https://www.basketball-reference.com/leagues/NBA_2019_games-december.html\n",
      "Skipping https://www.basketball-reference.com/leagues/NBA_2019_games-january.html\n",
      "Skipping https://www.basketball-reference.com/leagues/NBA_2019_games-february.html\n",
      "Skipping https://www.basketball-reference.com/leagues/NBA_2019_games-march.html\n",
      "Skipping https://www.basketball-reference.com/leagues/NBA_2019_games-april.html\n",
      "Skipping https://www.basketball-reference.com/leagues/NBA_2019_games-may.html\n",
      "2018-19 NBA Schedule | Basketball-Reference.com\n",
      "2019-20 NBA Schedule | Basketball-Reference.com\n",
      "Skipping https://www.basketball-reference.com/leagues/NBA_2020_games-october-2019.html\n",
      "Skipping https://www.basketball-reference.com/leagues/NBA_2020_games-november.html\n",
      "Skipping https://www.basketball-reference.com/leagues/NBA_2020_games-december.html\n",
      "Skipping https://www.basketball-reference.com/leagues/NBA_2020_games-january.html\n",
      "Skipping https://www.basketball-reference.com/leagues/NBA_2020_games-february.html\n",
      "Skipping https://www.basketball-reference.com/leagues/NBA_2020_games-march.html\n",
      "Skipping https://www.basketball-reference.com/leagues/NBA_2020_games-july.html\n",
      "Timeout on https://www.basketball-reference.com/leagues/NBA_2020_games-august.html\n",
      "Timeout on https://www.basketball-reference.com/leagues/NBA_2020_games-august.html\n",
      "2019-20 NBA Schedule | Basketball-Reference.com\n",
      "Timeout on https://www.basketball-reference.com/leagues/NBA_2020_games-september.html\n",
      "2019-20 NBA Schedule | Basketball-Reference.com\n",
      "Timeout on https://www.basketball-reference.com/leagues/NBA_2020_games-october-2020.html\n",
      "Timeout on https://www.basketball-reference.com/leagues/NBA_2020_games-october-2020.html\n",
      "2019-20 NBA Schedule | Basketball-Reference.com\n",
      "2020-21 NBA Schedule | Basketball-Reference.com\n",
      "2020-21 NBA Schedule | Basketball-Reference.com\n",
      "Timeout on https://www.basketball-reference.com/leagues/NBA_2021_games-january.html\n",
      "2020-21 NBA Schedule | Basketball-Reference.com\n",
      "2020-21 NBA Schedule | Basketball-Reference.com\n",
      "2020-21 NBA Schedule | Basketball-Reference.com\n",
      "Timeout on https://www.basketball-reference.com/leagues/NBA_2021_games-april.html\n",
      "2020-21 NBA Schedule | Basketball-Reference.com\n",
      "2020-21 NBA Schedule | Basketball-Reference.com\n",
      "2020-21 NBA Schedule | Basketball-Reference.com\n",
      "Timeout on https://www.basketball-reference.com/leagues/NBA_2021_games-july.html\n",
      "2020-21 NBA Schedule | Basketball-Reference.com\n",
      "Timeout on https://www.basketball-reference.com/leagues/NBA_2022_games.html\n",
      "Timeout on https://www.basketball-reference.com/leagues/NBA_2022_games.html\n",
      "2021-22 NBA Schedule | Basketball-Reference.com\n",
      "Timeout on https://www.basketball-reference.com/leagues/NBA_2022_games-october.html\n",
      "Timeout on https://www.basketball-reference.com/leagues/NBA_2022_games-october.html\n",
      "Timeout on https://www.basketball-reference.com/leagues/NBA_2022_games-october.html\n"
     ]
    },
    {
     "ename": "TypeError",
     "evalue": "write() argument must be str, not None",
     "output_type": "error",
     "traceback": [
      "\u001b[0;31m---------------------------------------------------------------------------\u001b[0m",
      "\u001b[0;31mTypeError\u001b[0m                                 Traceback (most recent call last)",
      "Cell \u001b[0;32mIn[9], line 2\u001b[0m\n\u001b[1;32m      1\u001b[0m \u001b[38;5;28;01mfor\u001b[39;00m season \u001b[38;5;129;01min\u001b[39;00m SEASONS:\n\u001b[0;32m----> 2\u001b[0m     \u001b[38;5;28;01mawait\u001b[39;00m scrape_season(season)\n",
      "Cell \u001b[0;32mIn[5], line 17\u001b[0m, in \u001b[0;36mscrape_season\u001b[0;34m(season)\u001b[0m\n\u001b[1;32m     15\u001b[0m html \u001b[38;5;241m=\u001b[39m \u001b[38;5;28;01mawait\u001b[39;00m get_html(url, \u001b[38;5;124m'\u001b[39m\u001b[38;5;124m#all_schedule\u001b[39m\u001b[38;5;124m'\u001b[39m)\n\u001b[1;32m     16\u001b[0m \u001b[38;5;28;01mwith\u001b[39;00m \u001b[38;5;28mopen\u001b[39m(save_path, \u001b[38;5;124m'\u001b[39m\u001b[38;5;124mw+\u001b[39m\u001b[38;5;124m'\u001b[39m) \u001b[38;5;28;01mas\u001b[39;00m f:\n\u001b[0;32m---> 17\u001b[0m     f\u001b[38;5;241m.\u001b[39mwrite(html)\n",
      "\u001b[0;31mTypeError\u001b[0m: write() argument must be str, not None"
     ]
    }
   ],
   "source": [
    "for season in SEASONS:\n",
    "    await scrape_season(season)"
   ]
  },
  {
   "cell_type": "code",
   "execution_count": null,
   "metadata": {},
   "outputs": [],
   "source": []
  }
 ],
 "metadata": {
  "kernelspec": {
   "display_name": "venv",
   "language": "python",
   "name": "python3"
  },
  "language_info": {
   "codemirror_mode": {
    "name": "ipython",
    "version": 3
   },
   "file_extension": ".py",
   "mimetype": "text/x-python",
   "name": "python",
   "nbconvert_exporter": "python",
   "pygments_lexer": "ipython3",
   "version": "3.11.0"
  }
 },
 "nbformat": 4,
 "nbformat_minor": 2
}
