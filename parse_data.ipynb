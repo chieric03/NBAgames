{
 "cells": [
  {
   "cell_type": "code",
   "execution_count": 64,
   "metadata": {},
   "outputs": [],
   "source": [
    "import os\n",
    "import pandas as pd\n",
    "from bs4 import BeautifulSoup"
   ]
  },
  {
   "cell_type": "code",
   "execution_count": 65,
   "metadata": {},
   "outputs": [],
   "source": [
    "SCORES_DIR = \"data/scores\"\n",
    "box_scores = os.listdir(SCORES_DIR)"
   ]
  },
  {
   "cell_type": "code",
   "execution_count": 66,
   "metadata": {},
   "outputs": [],
   "source": [
    "box_scores = [os.path.join(SCORES_DIR, f) for f in box_scores if f.endswith(\".html\")]"
   ]
  },
  {
   "cell_type": "code",
   "execution_count": 67,
   "metadata": {},
   "outputs": [],
   "source": [
    "def parse_html(box_score):\n",
    "    with open(box_score) as f:\n",
    "        html = f.read()\n",
    "\n",
    "    #cleaning html\n",
    "    soup = BeautifulSoup(html)\n",
    "    [s.decompose() for s in soup.select(\"tr.over_header\")]\n",
    "    [s.decompose() for s in soup.select(\"tr.thead\")]\n",
    "    return soup"
   ]
  },
  {
   "cell_type": "code",
   "execution_count": 68,
   "metadata": {},
   "outputs": [],
   "source": [
    "def read_linescore(soup):\n",
    "    line_score = pd.read_html(str(soup), attrs = {\"id\": \"line_score\"} )[0]\n",
    "    cols = list(line_score.columns)\n",
    "    cols[0] = \"team\"\n",
    "    cols[-1] = \"total\"\n",
    "    line_score.columns = cols\n",
    "    line_score = line_score[[\"team\", \"total\"]]\n",
    "    return line_score\n"
   ]
  },
  {
   "cell_type": "code",
   "execution_count": 69,
   "metadata": {},
   "outputs": [],
   "source": [
    "def read_stats(soup, team, stat_type):\n",
    "    df = pd.read_html(str(soup), attrs = {\"id\": f'box-{team}-game-{stat_type}'}, index_col = 0)[0]\n",
    "    df = df.apply(pd.to_numeric, errors = \"coerce\") #converts string stats to NaN\n",
    "    return df"
   ]
  },
  {
   "cell_type": "code",
   "execution_count": 70,
   "metadata": {},
   "outputs": [],
   "source": [
    "def read_season_info(soup):\n",
    "    nav = soup.select(\"#bottom_nav_container\")[0]\n",
    "    hrefs = [a[\"href\"] for a in nav.find_all(\"a\")]\n",
    "    season = os.path.basename(hrefs[1]).split(\"_\")[0]\n",
    "    return season\n"
   ]
  },
  {
   "cell_type": "code",
   "execution_count": null,
   "metadata": {},
   "outputs": [
    {
     "name": "stderr",
     "output_type": "stream",
     "text": [
      "/var/folders/rt/vlxzyc6d2mggxf0fjtgxlls80000gn/T/ipykernel_9743/715654178.py:2: FutureWarning: Passing literal html to 'read_html' is deprecated and will be removed in a future version. To read from a literal string, wrap it in a 'StringIO' object.\n",
      "  line_score = pd.read_html(str(soup), attrs = {\"id\": \"line_score\"} )[0]\n",
      "/var/folders/rt/vlxzyc6d2mggxf0fjtgxlls80000gn/T/ipykernel_9743/360467897.py:2: FutureWarning: Passing literal html to 'read_html' is deprecated and will be removed in a future version. To read from a literal string, wrap it in a 'StringIO' object.\n",
      "  df = pd.read_html(str(soup), attrs = {\"id\": f'box-{team}-game-{stat_type}'}, index_col = 0)[0]\n",
      "/var/folders/rt/vlxzyc6d2mggxf0fjtgxlls80000gn/T/ipykernel_9743/360467897.py:2: FutureWarning: Passing literal html to 'read_html' is deprecated and will be removed in a future version. To read from a literal string, wrap it in a 'StringIO' object.\n",
      "  df = pd.read_html(str(soup), attrs = {\"id\": f'box-{team}-game-{stat_type}'}, index_col = 0)[0]\n",
      "/var/folders/rt/vlxzyc6d2mggxf0fjtgxlls80000gn/T/ipykernel_9743/360467897.py:2: FutureWarning: Passing literal html to 'read_html' is deprecated and will be removed in a future version. To read from a literal string, wrap it in a 'StringIO' object.\n",
      "  df = pd.read_html(str(soup), attrs = {\"id\": f'box-{team}-game-{stat_type}'}, index_col = 0)[0]\n",
      "/var/folders/rt/vlxzyc6d2mggxf0fjtgxlls80000gn/T/ipykernel_9743/360467897.py:2: FutureWarning: Passing literal html to 'read_html' is deprecated and will be removed in a future version. To read from a literal string, wrap it in a 'StringIO' object.\n",
      "  df = pd.read_html(str(soup), attrs = {\"id\": f'box-{team}-game-{stat_type}'}, index_col = 0)[0]\n"
     ]
    }
   ],
   "source": [
    "base_cols = None\n",
    "games = []\n",
    "box_score = box_scores[0]\n",
    "\n",
    "for box_score in box_scores:\n",
    "    soup = parse_html(box_score)\n",
    "    line_score = read_linescore(soup)\n",
    "    teams = list(line_score[\"team\"])\n",
    "\n",
    "\n",
    "    summaries = []\n",
    "    for team in teams:\n",
    "        basic = read_stats(soup, team, \"basic\")\n",
    "        advanced = read_stats(soup, team, \"advanced\")\n",
    "\n",
    "        totals = pd.concat([basic.iloc[-1,:], advanced.iloc[-1,:]])\n",
    "        maxes = pd.concat([basic.iloc[:-1,:].max(), advanced.iloc[:-1,:].max()])\n",
    "        maxes.index = maxes.index.str.lower() + \"_max\"\n",
    "        totals.index = totals.index.str.lower()#making sure pd treats these as different columns\n",
    "\n",
    "        summary = pd.concat([totals, maxes])\n",
    "\n",
    "        if base_cols is None:\n",
    "            base_cols = list(summary.index.drop_duplicates(keep = \"first\"))\n",
    "            base_cols = [b for b in base_cols if \"bpm\" not in b]\n",
    "\n",
    "        summary = summary[base_cols]\n",
    "\n",
    "        summaries.append(summary)\n",
    "\n",
    "    summary = pd.concat(summaries, axis = 1).T\n",
    "\n",
    "    game = pd.concat([summary, line_score], axis = 1)\n",
    "\n",
    "\n",
    "    game[\"home\"] = [0,1]\n",
    "    game_opp = game.iloc[::-1].reset_index()\n",
    "    game_opp.columns += \"_opp\"\n",
    "\n",
    "    full_game = pd.concat([game, game_opp], axis = 1)\n",
    "\n",
    "    full_game[\"season\"] = read_season_info(soup)\n",
    "\n",
    "    full_game[\"date\"] = os.path.basename(box_score)[:8]\n",
    "    full_game[\"date\"] = pd.to_datetime(full_game[\"date\"], format = \"%Y%m%d\")\n",
    "\n",
    "    full_game[\"winner\"] = full_game[\"total\"] > full_game[\"total_opp\"]\n",
    "    games.append(full_game)\n",
    "    if len(games) % 100 == 0:\n",
    "        print(f\"Processed {len(games)} / {len(box_scores)} games\")\n"
   ]
  },
  {
   "cell_type": "code",
   "execution_count": null,
   "metadata": {},
   "outputs": [],
   "source": [
    "games_df = pd.concat(games, ignore_index = True)\n",
    "games_df.to_csv(\"nbagames.csv\")"
   ]
  },
  {
   "cell_type": "code",
   "execution_count": null,
   "metadata": {},
   "outputs": [],
   "source": [
    "#[g.shape[1] for g in games if g.shape[1] != 150]\n",
    "\n"
   ]
  }
 ],
 "metadata": {
  "kernelspec": {
   "display_name": "venv",
   "language": "python",
   "name": "python3"
  },
  "language_info": {
   "codemirror_mode": {
    "name": "ipython",
    "version": 3
   },
   "file_extension": ".py",
   "mimetype": "text/x-python",
   "name": "python",
   "nbconvert_exporter": "python",
   "pygments_lexer": "ipython3",
   "version": "3.11.0"
  }
 },
 "nbformat": 4,
 "nbformat_minor": 2
}
